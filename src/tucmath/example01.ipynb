{
 "cells": [
  {
   "cell_type": "code",
   "execution_count": null,
   "metadata": {},
   "outputs": [],
   "source": [
    "# from data_downloader import download_dataset\n",
    "# # URL of the SUSY dataset\n",
    "# url = 'https://archive.ics.uci.edu/ml/machine-learning-databases/00279/SUSY.csv.gz'\n",
    "\n",
    "# # Directory to save the dataset\n",
    "# directory = 'data'\n",
    "\n",
    "# # Path to save the downloaded file\n",
    "# compressed_file_name = 'SUSY.csv.gz'\n",
    "# uncompressed_file_name = 'SUSY.csv'\n",
    "\n",
    "# download_dataset(directory, url, compressed_file_name, uncompressed_file_name)"
   ]
  },
  {
   "cell_type": "code",
   "execution_count": 1,
   "metadata": {},
   "outputs": [
    {
     "name": "stdout",
     "output_type": "stream",
     "text": [
      "\n",
      "Dataset: susy\n",
      "--------\n",
      "Shape train data: (5000, 18)\n",
      "Shape test data: (5000, 18)\n"
     ]
    }
   ],
   "source": [
    "from data_datasets import higgs,susy,cod_rna\n",
    "N = 5000\n",
    "data = \"susy\"\n",
    "# data = \"higgs\"\n",
    "# data = \"cod_rna\"\n",
    "####################\n",
    "\n",
    "if data == \"higgs\":\n",
    "    X_train, X_test, y_train, y_test = higgs(N)\n",
    "elif data == \"susy\":\n",
    "    X_train, X_test, y_train, y_test = susy(N)\n",
    "elif data == \"cod_rna\":\n",
    "    X_train, X_test, y_train, y_test = cod_rna(N)\n",
    "\n",
    "print(\"\\nDataset:\", data)\n",
    "print(\"--------\\nShape train data:\", X_train.shape)\n",
    "print(\"Shape test data:\", X_test.shape)"
   ]
  },
  {
   "cell_type": "markdown",
   "metadata": {},
   "source": [
    "## KRR witout Preconditioning"
   ]
  },
  {
   "cell_type": "code",
   "execution_count": 3,
   "metadata": {},
   "outputs": [
    {
     "name": "stdout",
     "output_type": "stream",
     "text": [
      "Training is done in 6 iteration with CG-method. Precondition: without precondition\n",
      "Correct: 3561 , Incorrect: 1439\n"
     ]
    }
   ],
   "source": [
    "from pkrr import PKRR\n",
    "model1 = PKRR(mu=.1, rank=20, gamma=2)\n",
    "\n",
    "model1.fit(X_train=X_train, y_train=y_train, maxiter=100)\n",
    "print(model1.report)\n",
    "y_predict_1 = model1.predict(X_test)\n",
    "print(\n",
    "    f\"Correct: {sum(y_test==y_predict_1 )} , Incorrect: {sum(y_test!=y_predict_1)}\")"
   ]
  },
  {
   "cell_type": "markdown",
   "metadata": {},
   "source": [
    "## KRR with Nystrom as Preconditioner"
   ]
  },
  {
   "cell_type": "code",
   "execution_count": 4,
   "metadata": {},
   "outputs": [
    {
     "name": "stdout",
     "output_type": "stream",
     "text": [
      "Training is done in 6 iteration with CG-method. Precondition: nystrom\n",
      "Correct: 3561 , Incorrect: 1439\n"
     ]
    }
   ],
   "source": [
    "from pkrr import PKRR\n",
    "model2 = PKRR(mu=.1, rank=20, gamma=2, prec=\"nystrom\")\n",
    "\n",
    "model2.fit(X_train=X_train, y_train=y_train, maxiter=100)\n",
    "print(model2.report)\n",
    "y_predict_2 = model2.predict(X_test)\n",
    "print(\n",
    "    f\"Correct: {sum(y_test==y_predict_2 )} , Incorrect: {sum(y_test!=y_predict_2)}\")\n"
   ]
  },
  {
   "cell_type": "code",
   "execution_count": 5,
   "metadata": {},
   "outputs": [
    {
     "data": {
      "text/plain": [
       "True"
      ]
     },
     "execution_count": 5,
     "metadata": {},
     "output_type": "execute_result"
    }
   ],
   "source": [
    "(model1.solution==model1.solution).all()"
   ]
  },
  {
   "cell_type": "code",
   "execution_count": null,
   "metadata": {},
   "outputs": [],
   "source": [
    "# \"\"\"Show plot with convergence profile - normalised residual vector vs iteration.\"\"\"\n",
    "import matplotlib.pyplot as plt\n",
    "plt.title('Pre KRR method convergence profile.')\n",
    "plt.ylabel('Convergence (residual norm)')\n",
    "plt.xlabel('Iterations')\n",
    "\n",
    "m_res = model2.residuals\n",
    "plt.semilogy(range(len(m_res)), m_res, 'b--')\n",
    "plt.legend(['Total iter = ' + str(len(m_res))])\n",
    "# plt.show()"
   ]
  },
  {
   "cell_type": "code",
   "execution_count": null,
   "metadata": {},
   "outputs": [],
   "source": [
    "model1.residuals"
   ]
  }
 ],
 "metadata": {
  "kernelspec": {
   "display_name": "Python 3",
   "language": "python",
   "name": "python3"
  },
  "language_info": {
   "codemirror_mode": {
    "name": "ipython",
    "version": 3
   },
   "file_extension": ".py",
   "mimetype": "text/x-python",
   "name": "python",
   "nbconvert_exporter": "python",
   "pygments_lexer": "ipython3",
   "version": "3.9.6"
  }
 },
 "nbformat": 4,
 "nbformat_minor": 2
}
