{
 "cells": [
  {
   "cell_type": "code",
   "execution_count": null,
   "metadata": {
    "tags": []
   },
   "outputs": [],
   "source": [
    "# from data_downloader import download_dataset\n",
    "# # URL of the SUSY dataset\n",
    "# url = 'https://archive.ics.uci.edu/ml/machine-learning-databases/00279/SUSY.csv.gz'\n",
    "\n",
    "# # Directory to save the dataset\n",
    "# directory = 'data'\n",
    "\n",
    "# # Path to save the downloaded file\n",
    "# compressed_file_name = 'SUSY.csv.gz'\n",
    "# uncompressed_file_name = 'SUSY.csv'\n",
    "\n",
    "# download_dataset(directory, url, compressed_file_name, uncompressed_file_name)"
   ]
  },
  {
   "cell_type": "code",
   "execution_count": 1,
   "metadata": {
    "tags": []
   },
   "outputs": [
    {
     "name": "stdout",
     "output_type": "stream",
     "text": [
      "\n",
      "Dataset: cod_rna\n",
      "--------\n",
      "Shape train data: (500, 8)\n",
      "Shape test data: (500, 8)\n"
     ]
    }
   ],
   "source": [
    "from data_datasets import higgs,susy,cod_rna\n",
    "N = 500\n",
    "# data = \"susy\"\n",
    "# data = \"higgs\"\n",
    "data = \"cod_rna\"\n",
    "####################\n",
    "\n",
    "if data == \"higgs\":\n",
    "    X_train, X_test, y_train, y_test = higgs(N)\n",
    "elif data == \"susy\":\n",
    "    X_train, X_test, y_train, y_test = susy(N)\n",
    "elif data == \"cod_rna\":\n",
    "    X_train, X_test, y_train, y_test = cod_rna(N)\n",
    "\n",
    "print(\"\\nDataset:\", data)\n",
    "print(\"--------\\nShape train data:\", X_train.shape)\n",
    "print(\"Shape test data:\", X_test.shape)"
   ]
  },
  {
   "cell_type": "markdown",
   "metadata": {},
   "source": [
    "## KRR witout Preconditioning"
   ]
  },
  {
   "cell_type": "code",
   "execution_count": 2,
   "metadata": {
    "tags": []
   },
   "outputs": [
    {
     "name": "stdout",
     "output_type": "stream",
     "text": [
      "Training is done in 4 iteration with CG-method. Precondition: without precondition\n"
     ]
    }
   ],
   "source": [
    "from pkrr import PKRR\n",
    "import numpy as np\n",
    "from math import *\n",
    "\n",
    "gamma = sqrt(1./6)\n",
    "mu = N*1e-2\n",
    "\n",
    "model1 = PKRR(mu=mu, gamma=gamma, rank=50)\n",
    "\n",
    "X_train=np.asarray(X_train)\n",
    "X_test=np.asarray(X_test)\n",
    "\n",
    "model1.fit(X_train=X_train, y_train=y_train, maxiter=300)\n",
    "print(model1.report)"
   ]
  },
  {
   "cell_type": "markdown",
   "metadata": {},
   "source": [
    "## KRR with Nystrom as Preconditioner"
   ]
  },
  {
   "cell_type": "code",
   "execution_count": 3,
   "metadata": {
    "tags": []
   },
   "outputs": [
    {
     "name": "stdout",
     "output_type": "stream",
     "text": [
      "Training is done in 6 iteration with CG-method. Precondition: nystrom\n"
     ]
    }
   ],
   "source": [
    "from pkrr import PKRR\n",
    "model2 = PKRR(mu=mu, rank=25, gamma=gamma,prec=\"nystrom\")\n",
    "\n",
    "model2.fit(X_train=X_train, y_train=y_train, maxiter=300)\n",
    "print(model2.report)"
   ]
  },
  {
   "cell_type": "code",
   "execution_count": 4,
   "metadata": {
    "tags": []
   },
   "outputs": [
    {
     "name": "stdout",
     "output_type": "stream",
     "text": [
      "Training is done in 43 iteration with CG-method. Precondition: rff\n"
     ]
    }
   ],
   "source": [
    "from pkrr import PKRR\n",
    "model2 = PKRR(mu=mu, rank=150, gamma=gamma, prec=\"rff\")\n",
    "\n",
    "model2.fit(X_train=X_train, y_train=y_train, maxiter=300)\n",
    "print(model2.report)"
   ]
  },
  {
   "cell_type": "code",
   "execution_count": 5,
   "metadata": {
    "tags": []
   },
   "outputs": [
    {
     "name": "stdout",
     "output_type": "stream",
     "text": [
      "Training is done in 7 iteration with CG-method. Precondition: rpc\n"
     ]
    }
   ],
   "source": [
    "from pkrr import PKRR\n",
    "model3 = PKRR(mu=mu, rank=50, gamma=gamma, prec=\"rpc\")\n",
    "\n",
    "model3.fit(X_train=X_train, y_train=y_train, maxiter=300)\n",
    "print(model3.report)"
   ]
  },
  {
   "cell_type": "code",
   "execution_count": 6,
   "metadata": {},
   "outputs": [
    {
     "name": "stdout",
     "output_type": "stream",
     "text": [
      "Training is done in 7 iteration with CG-method. Precondition: uni\n"
     ]
    }
   ],
   "source": [
    "from pkrr import PKRR\n",
    "model4 = PKRR(mu=mu, rank=50, gamma=gamma, prec=\"uni\")\n",
    "\n",
    "model4.fit(X_train=X_train, y_train=y_train, maxiter=300)\n",
    "print(model4.report)"
   ]
  },
  {
   "cell_type": "markdown",
   "metadata": {},
   "source": [
    "# KRR with RPCholesky as Preconditioner"
   ]
  },
  {
   "cell_type": "code",
   "execution_count": null,
   "metadata": {
    "tags": []
   },
   "outputs": [],
   "source": [
    "# \"\"\"Show plot with convergence profile - normalised residual vector vs iteration.\"\"\"\n",
    "import matplotlib.pyplot as plt\n",
    "plt.title('Pre KRR method convergence profile.')\n",
    "plt.ylabel('Convergence (residual norm)')\n",
    "plt.xlabel('Iterations')\n",
    "\n",
    "m_res = model2.residuals\n",
    "plt.semilogy(range(len(m_res)), m_res, 'b--')\n",
    "plt.legend(['Total iter = ' + str(len(m_res))])\n",
    "# plt.show()"
   ]
  },
  {
   "cell_type": "code",
   "execution_count": null,
   "metadata": {
    "tags": []
   },
   "outputs": [],
   "source": [
    "model1.residuals[-1]"
   ]
  }
 ],
 "metadata": {
  "kernelspec": {
   "display_name": "Python 3 (ipykernel)",
   "language": "python",
   "name": "python3"
  },
  "language_info": {
   "codemirror_mode": {
    "name": "ipython",
    "version": 3
   },
   "file_extension": ".py",
   "mimetype": "text/x-python",
   "name": "python",
   "nbconvert_exporter": "python",
   "pygments_lexer": "ipython3",
   "version": "3.9.6"
  }
 },
 "nbformat": 4,
 "nbformat_minor": 4
}
