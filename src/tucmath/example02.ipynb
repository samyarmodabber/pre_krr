{
 "cells": [
  {
   "cell_type": "code",
   "execution_count": null,
   "metadata": {},
   "outputs": [],
   "source": [
    "from data_datasets import higgs,susy,cod_rna\n",
    "N = 10000\n",
    "data = \"susy\"\n",
    "# data = \"higgs\"\n",
    "# data = \"cod_rna\"\n",
    "####################\n",
    "\n",
    "if data == \"higgs\":\n",
    "    X_train, X_test, y_train, y_test = higgs(N)\n",
    "elif data == \"susy\":\n",
    "    X_train, X_test, y_train, y_test = susy(N)\n",
    "elif data == \"cod_rna\":\n",
    "    X_train, X_test, y_train, y_test = cod_rna(N)\n",
    "\n",
    "print(\"\\nDataset:\", data)\n",
    "print(\"--------\\nShape train data:\", X_train.shape)\n",
    "print(\"Shape test data:\", X_test.shape)"
   ]
  },
  {
   "cell_type": "code",
   "execution_count": null,
   "metadata": {},
   "outputs": [],
   "source": [
    "import numpy as np\n",
    "import matplotlib.pyplot as plt\n",
    "from pkrr import PKRR\n",
    "from math import *\n",
    "\n",
    "gamma = sqrt(1./6)\n",
    "mu = N*1e-7\n",
    "rank = 20\n",
    "\n",
    "\n",
    "# Create a figure and a set of subplots\n",
    "fig, ax = plt.subplots()\n",
    "# Set the labels and title\n",
    "ax.set_xlabel('Iterations')\n",
    "ax.set_ylabel('Convergence (residual norm)')\n",
    "ax.set_title('Pre KRR method convergence profile.')\n",
    "\n",
    "\n",
    "methods = [None, \"greedy\", \"nystrom\", \"rpc\", \"rff\"]\n",
    "models_residuals = []\n",
    "colors = ['r', 'g', 'b', 'y', 'k']\n",
    "\n",
    "for i, method in enumerate(methods):\n",
    "    if method is None:\n",
    "        prec = method\n",
    "    model = PKRR(mu=mu, rank=rank, prec=method, gamma=gamma)\n",
    "    model.fit(X_train=X_train, y_train=y_train, maxiter=None)\n",
    "    # Plot the first function\n",
    "    m_res = model.residuals\n",
    "    label = \"CG\" if method == None else method\n",
    "    ax.semilogy(range(len(m_res)), m_res, colors[i], label=label)\n",
    "    print(model.report)\n",
    "\n",
    "# Add a legend\n",
    "ax.legend()\n",
    "\n",
    "# Display the plot\n",
    "plt.show()"
   ]
  }
 ],
 "metadata": {
  "kernelspec": {
   "display_name": "Python 3",
   "language": "python",
   "name": "python3"
  },
  "language_info": {
   "codemirror_mode": {
    "name": "ipython",
    "version": 3
   },
   "file_extension": ".py",
   "mimetype": "text/x-python",
   "name": "python",
   "nbconvert_exporter": "python",
   "pygments_lexer": "ipython3",
   "version": "3.9.6"
  }
 },
 "nbformat": 4,
 "nbformat_minor": 2
}
