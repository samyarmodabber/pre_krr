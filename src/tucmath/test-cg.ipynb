{
 "cells": [
  {
   "cell_type": "code",
   "execution_count": 2,
   "metadata": {},
   "outputs": [],
   "source": [
    "import numpy as np\n",
    "import pandas as pd\n",
    "import random\n",
    "import time\n",
    "import scipy as sp\n",
    "from sklearn.metrics.pairwise import rbf_kernel\n",
    "from scipy.sparse.linalg import cg"
   ]
  },
  {
   "cell_type": "code",
   "execution_count": 3,
   "metadata": {},
   "outputs": [
    {
     "name": "stdout",
     "output_type": "stream",
     "text": [
      "\n",
      "Dataset: susy\n",
      "--------\n",
      "Shape train data: (3000, 18)\n",
      "Shape test data: (3000, 18)\n"
     ]
    }
   ],
   "source": [
    "from data_datasets import higgs, susy, cod_rna\n",
    "N = 3000\n",
    "data = \"susy\"\n",
    "# data = \"higgs\"\n",
    "# data = \"cod_rna\"\n",
    "####################\n",
    "\n",
    "if data == \"higgs\":\n",
    "    X_train, X_test, y_train, y_test = higgs(N)\n",
    "elif data == \"susy\":\n",
    "    X_train, X_test, y_train, y_test = susy(N)\n",
    "elif data == \"cod_rna\":\n",
    "    X_train, X_test, y_train, y_test = cod_rna(N)\n",
    "\n",
    "print(\"\\nDataset:\", data)\n",
    "print(\"--------\\nShape train data:\", X_train.shape)\n",
    "print(\"Shape test data:\", X_test.shape)"
   ]
  },
  {
   "cell_type": "code",
   "execution_count": null,
   "metadata": {},
   "outputs": [],
   "source": [
    "\n",
    "import numpy as np\n",
    "from scipy.sparse.linalg import cg\n",
    "# import tensorflow as tf\n",
    "import time\n",
    "\n",
    "\n",
    "def conjugate_grad(A, b, x=None):\n",
    "    \"\"\"\n",
    "    Description\n",
    "    -----------\n",
    "    Solve a linear equation Ax = b with conjugate gradient method.\n",
    "    Parameters\n",
    "    ----------\n",
    "    A: 2d numpy.array of positive semi-definite (symmetric) matrix\n",
    "    b: 1d numpy.array\n",
    "    x: 1d numpy.array of initial point\n",
    "    Returns\n",
    "    -------\n",
    "    1d numpy.array x such that Ax = b\n",
    "    \"\"\"\n",
    "    n = len(b)\n",
    "    if not x:\n",
    "        x = np.ones(n)\n",
    "    r = np.dot(A, x) - b\n",
    "    p = - r\n",
    "    r_k_norm = np.dot(r, r)\n",
    "    for i in range(2*n):\n",
    "        Ap = np.dot(A, p)\n",
    "        alpha = r_k_norm / np.dot(p, Ap)\n",
    "        x += alpha * p\n",
    "        r += alpha * Ap\n",
    "        r_kplus1_norm = np.dot(r, r)\n",
    "        beta = r_kplus1_norm / r_k_norm\n",
    "        r_k_norm = r_kplus1_norm\n",
    "        if r_kplus1_norm < 1e-5:\n",
    "            print ('Itr:', i)\n",
    "            break\n",
    "        p = beta * p - r\n",
    "    return x\n",
    "\n",
    "# x_ph = tf.placeholder('float32', [None, None])\n",
    "# r = tf.matmul(A, x_ph) - b"
   ]
  },
  {
   "cell_type": "code",
   "execution_count": 5,
   "metadata": {},
   "outputs": [
    {
     "data": {
      "text/plain": [
       "array([[1.        , 0.00257308, 0.00449436, ..., 0.00368384, 0.004638  ,\n",
       "        0.00114525],\n",
       "       [0.00257308, 1.        , 0.46284024, ..., 0.09177461, 0.03373803,\n",
       "        0.28276524],\n",
       "       [0.00449436, 0.46284024, 1.        , ..., 0.2963664 , 0.10127718,\n",
       "        0.30640716],\n",
       "       ...,\n",
       "       [0.00368384, 0.09177461, 0.2963664 , ..., 1.        , 0.07024007,\n",
       "        0.07830995],\n",
       "       [0.004638  , 0.03373803, 0.10127718, ..., 0.07024007, 1.        ,\n",
       "        0.04738602],\n",
       "       [0.00114525, 0.28276524, 0.30640716, ..., 0.07830995, 0.04738602,\n",
       "        1.        ]])"
      ]
     },
     "execution_count": 5,
     "metadata": {},
     "output_type": "execute_result"
    }
   ],
   "source": [
    "K = rbf_kernel(X_train, gamma=.1)\n",
    "K"
   ]
  },
  {
   "cell_type": "code",
   "execution_count": 6,
   "metadata": {},
   "outputs": [
    {
     "name": "stdout",
     "output_type": "stream",
     "text": [
      "Y_shift.shape (3000, 20)\n",
      "C.shape (20, 20)\n",
      "B.shape (3000, 20)\n",
      "U.shape (3000, 20)\n",
      "D.shape (20,)\n",
      "VT.shape (20, 20)\n",
      "Sigma.shape (20, 20)\n",
      "Lamda.shape (20, 20) [[469.23277663   0.           0.           0.           0.\n",
      "    0.           0.           0.           0.           0.\n",
      "    0.           0.           0.           0.           0.\n",
      "    0.           0.           0.           0.           0.        ]\n",
      " [  0.          82.55311324   0.           0.           0.\n",
      "    0.           0.           0.           0.           0.\n",
      "    0.           0.           0.           0.           0.\n",
      "    0.           0.           0.           0.           0.        ]\n",
      " [  0.           0.          64.20876012   0.           0.\n",
      "    0.           0.           0.           0.           0.\n",
      "    0.           0.           0.           0.           0.\n",
      "    0.           0.           0.           0.           0.        ]\n",
      " [  0.           0.           0.          51.59337157   0.\n",
      "    0.           0.           0.           0.           0.\n",
      "    0.           0.           0.           0.           0.\n",
      "    0.           0.           0.           0.           0.        ]\n",
      " [  0.           0.           0.           0.          31.19095665\n",
      "    0.           0.           0.           0.           0.\n",
      "    0.           0.           0.           0.           0.\n",
      "    0.           0.           0.           0.           0.        ]\n",
      " [  0.           0.           0.           0.           0.\n",
      "   28.35588146   0.           0.           0.           0.\n",
      "    0.           0.           0.           0.           0.\n",
      "    0.           0.           0.           0.           0.        ]\n",
      " [  0.           0.           0.           0.           0.\n",
      "    0.          24.36163393   0.           0.           0.\n",
      "    0.           0.           0.           0.           0.\n",
      "    0.           0.           0.           0.           0.        ]\n",
      " [  0.           0.           0.           0.           0.\n",
      "    0.           0.          23.22243461   0.           0.\n",
      "    0.           0.           0.           0.           0.\n",
      "    0.           0.           0.           0.           0.        ]\n",
      " [  0.           0.           0.           0.           0.\n",
      "    0.           0.           0.          18.35682157   0.\n",
      "    0.           0.           0.           0.           0.\n",
      "    0.           0.           0.           0.           0.        ]\n",
      " [  0.           0.           0.           0.           0.\n",
      "    0.           0.           0.           0.          16.45550334\n",
      "    0.           0.           0.           0.           0.\n",
      "    0.           0.           0.           0.           0.        ]\n",
      " [  0.           0.           0.           0.           0.\n",
      "    0.           0.           0.           0.           0.\n",
      "   13.50779169   0.           0.           0.           0.\n",
      "    0.           0.           0.           0.           0.        ]\n",
      " [  0.           0.           0.           0.           0.\n",
      "    0.           0.           0.           0.           0.\n",
      "    0.          11.47321905   0.           0.           0.\n",
      "    0.           0.           0.           0.           0.        ]\n",
      " [  0.           0.           0.           0.           0.\n",
      "    0.           0.           0.           0.           0.\n",
      "    0.           0.          10.62453688   0.           0.\n",
      "    0.           0.           0.           0.           0.        ]\n",
      " [  0.           0.           0.           0.           0.\n",
      "    0.           0.           0.           0.           0.\n",
      "    0.           0.           0.           8.54726868   0.\n",
      "    0.           0.           0.           0.           0.        ]\n",
      " [  0.           0.           0.           0.           0.\n",
      "    0.           0.           0.           0.           0.\n",
      "    0.           0.           0.           0.           7.55805808\n",
      "    0.           0.           0.           0.           0.        ]\n",
      " [  0.           0.           0.           0.           0.\n",
      "    0.           0.           0.           0.           0.\n",
      "    0.           0.           0.           0.           0.\n",
      "    6.39774246   0.           0.           0.           0.        ]\n",
      " [  0.           0.           0.           0.           0.\n",
      "    0.           0.           0.           0.           0.\n",
      "    0.           0.           0.           0.           0.\n",
      "    0.           6.00379407   0.           0.           0.        ]\n",
      " [  0.           0.           0.           0.           0.\n",
      "    0.           0.           0.           0.           0.\n",
      "    0.           0.           0.           0.           0.\n",
      "    0.           0.           5.31909773   0.           0.        ]\n",
      " [  0.           0.           0.           0.           0.\n",
      "    0.           0.           0.           0.           0.\n",
      "    0.           0.           0.           0.           0.\n",
      "    0.           0.           0.           4.62447864   0.        ]\n",
      " [  0.           0.           0.           0.           0.\n",
      "    0.           0.           0.           0.           0.\n",
      "    0.           0.           0.           0.           0.\n",
      "    0.           0.           0.           0.           3.12192372]]\n"
     ]
    }
   ],
   "source": [
    "from low_rank_methods import nystrom\n",
    "U,D = nystrom(K,20)\n",
    "mu=.02"
   ]
  },
  {
   "cell_type": "code",
   "execution_count": 7,
   "metadata": {},
   "outputs": [
    {
     "data": {
      "text/plain": [
       "array([[ 0.02314162,  0.00164071, -0.0001143 , ..., -0.00041997,\n",
       "        -0.00033558, -0.00111613],\n",
       "       [ 0.00164071,  0.02615047,  0.00243347, ..., -0.00210378,\n",
       "        -0.00062976,  0.00302964],\n",
       "       [-0.0001143 ,  0.00243347,  0.0276363 , ...,  0.00119334,\n",
       "        -0.00246457,  0.00321178],\n",
       "       ...,\n",
       "       [-0.00041997, -0.00210378,  0.00119334, ...,  0.02882129,\n",
       "        -0.00038525, -0.00121669],\n",
       "       [-0.00033558, -0.00062976, -0.00246457, ..., -0.00038525,\n",
       "         0.02593216, -0.00087452],\n",
       "       [-0.00111613,  0.00302964,  0.00321178, ..., -0.00121669,\n",
       "        -0.00087452,  0.02586542]])"
      ]
     },
     "execution_count": 7,
     "metadata": {},
     "output_type": "execute_result"
    }
   ],
   "source": [
    "K_reg=U@U.T+mu*np.eye(U.shape[0])\n",
    "K_reg"
   ]
  },
  {
   "cell_type": "code",
   "execution_count": 8,
   "metadata": {},
   "outputs": [],
   "source": [
    "def efficient_woodbury(A, U, V, k, C=None):\n",
    "    '''\n",
    "    Computes the Woodbury identity for the matrix A + UCV^T where A is a diagonal matrix.\n",
    "    '''\n",
    "\n",
    "    A_inv_diag = 1./np.diag(A)  # note! A_inv_diag is a vector!\n",
    "    if C is None:\n",
    "        B_inv = np.linalg.solve(np.eye(k) + (V * A_inv_diag) @ U, V)\n",
    "    else:\n",
    "        B_inv = np.linalg.solve(np.linalg.inv(C) + (V * A_inv_diag) @ U, V)\n",
    "\n",
    "    return np.diag(A_inv_diag) - (A_inv_diag.reshape(-1, 1) * U @ B_inv * A_inv_diag)"
   ]
  },
  {
   "cell_type": "code",
   "execution_count": 11,
   "metadata": {},
   "outputs": [],
   "source": [
    "N, d = U.shape\n",
    "i = np.eye(d)\n",
    "I = np.eye(N)\n",
    "\n",
    "K_reg_inv=efficient_woodbury(mu*I, U, U.T, 20)"
   ]
  },
  {
   "cell_type": "code",
   "execution_count": 12,
   "metadata": {},
   "outputs": [
    {
     "data": {
      "text/plain": [
       "1.0000000000000215"
      ]
     },
     "execution_count": 12,
     "metadata": {},
     "output_type": "execute_result"
    }
   ],
   "source": [
    "np.linalg.cond(K_reg_inv@K_reg)"
   ]
  }
 ],
 "metadata": {
  "kernelspec": {
   "display_name": "Python 3",
   "language": "python",
   "name": "python3"
  },
  "language_info": {
   "codemirror_mode": {
    "name": "ipython",
    "version": 3
   },
   "file_extension": ".py",
   "mimetype": "text/x-python",
   "name": "python",
   "nbconvert_exporter": "python",
   "pygments_lexer": "ipython3",
   "version": "3.9.6"
  }
 },
 "nbformat": 4,
 "nbformat_minor": 2
}
