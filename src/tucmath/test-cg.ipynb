{
 "cells": [
  {
   "cell_type": "code",
   "execution_count": 1,
   "metadata": {},
   "outputs": [],
   "source": [
    "import numpy as np\n",
    "import pandas as pd\n",
    "import random\n",
    "import time\n",
    "import scipy as sp\n",
    "from scipy.sparse.linalg import cg\n",
    "from sklearn.metrics.pairwise import rbf_kernel"
   ]
  },
  {
   "cell_type": "code",
   "execution_count": 1,
   "metadata": {},
   "outputs": [
    {
     "name": "stdout",
     "output_type": "stream",
     "text": [
      "\n",
      "Dataset: susy\n",
      "--------\n",
      "Shape train data: (10000, 18)\n",
      "Shape test data: (10000, 18)\n"
     ]
    }
   ],
   "source": [
    "from data_datasets import higgs, susy, cod_rna\n",
    "N =10000\n",
    "seed=123\n",
    "data = \"susy\"\n",
    "# data = \"higgs\"\n",
    "# data = \"cod_rna\"\n",
    "####################\n",
    "\n",
    "if data == \"higgs\":\n",
    "    X_train, X_test, y_train, y_test = higgs(N, seed)\n",
    "elif data == \"susy\":\n",
    "    X_train, X_test, y_train, y_test = susy(N, seed)\n",
    "elif data == \"cod_rna\":\n",
    "    X_train, X_test, y_train, y_test = cod_rna(N, seed)\n",
    "\n",
    "print(\"\\nDataset:\", data)\n",
    "print(\"--------\\nShape train data:\", X_train.shape)\n",
    "print(\"Shape test data:\", X_test.shape)"
   ]
  },
  {
   "cell_type": "code",
   "execution_count": null,
   "metadata": {},
   "outputs": [],
   "source": [
    "def nystrom(K, rank):\n",
    "    N = K.shape[0]\n",
    "    Omega = np.random.randn(N, rank)\n",
    "    Y = K@Omega  # matvec\n",
    "    eps = np.finfo(float).eps\n",
    "    shift = np.linalg.norm(Y, \"fro\")*eps\n",
    "    Y_shift = Y+shift*Omega\n",
    "    C = np.linalg.cholesky(Omega.T@Y_shift)\n",
    "    B = Y_shift @ np.linalg.inv(C)\n",
    "\n",
    "    U, D, VT = np.linalg.svd(B, full_matrices=False)\n",
    "    Sigma = np.diag(D)\n",
    "    Lamda = np.maximum(0, Sigma@Sigma-shift*np.eye(rank))\n",
    "\n",
    "    return U, Lamda"
   ]
  },
  {
   "cell_type": "code",
   "execution_count": 3,
   "metadata": {},
   "outputs": [],
   "source": [
    "from kernels import GaussianKernel_mtx\n",
    "mu = 4\n",
    "N, d = X_train.shape\n",
    "I = np.eye(N)\n",
    "K = GaussianKernel_mtx(np.asarray(X_train), np.asarray(X_train), bandwidth=.1)\n",
    "K_reg=K+mu*I"
   ]
  },
  {
   "cell_type": "code",
   "execution_count": 7,
   "metadata": {},
   "outputs": [],
   "source": [
    "from utils import CG\n",
    "\n",
    "result = CG(A=K_reg, b=y_train, tol=1e-16)"
   ]
  },
  {
   "cell_type": "code",
   "execution_count": 8,
   "metadata": {},
   "outputs": [
    {
     "data": {
      "text/plain": [
       "(array([ 0.2,  0.2,  0.2, ...,  0.2,  0.2, -0.2]),\n",
       " array([1.00000000e+02, 2.03924141e-04, 6.68241464e-09, 3.24632497e-14]))"
      ]
     },
     "execution_count": 8,
     "metadata": {},
     "output_type": "execute_result"
    }
   ],
   "source": [
    "result"
   ]
  },
  {
   "cell_type": "code",
   "execution_count": 35,
   "metadata": {},
   "outputs": [
    {
     "data": {
      "text/plain": [
       "[0.00020392414106080924,\n",
       " 6.6824146968780456e-09,\n",
       " 3.446540709017479e-14,\n",
       " 1.0997374119838626e-14,\n",
       " 3.635026844804856e-15]"
      ]
     },
     "execution_count": 35,
     "metadata": {},
     "output_type": "execute_result"
    }
   ],
   "source": [
    "residuals = []\n",
    "b = y_train\n",
    "\n",
    "\n",
    "def callback(x): return residuals.append(\n",
    "    np.linalg.norm(K_reg @ x - b))\n",
    "# / np.linalg.norm(b)\n",
    "\n",
    "\n",
    "alpha, info = cg(K_reg, b, callback=callback, tol=1e-16)\n",
    "len(residuals)\n",
    "residuals"
   ]
  },
  {
   "cell_type": "code",
   "execution_count": 36,
   "metadata": {},
   "outputs": [
    {
     "data": {
      "text/plain": [
       "3"
      ]
     },
     "execution_count": 36,
     "metadata": {},
     "output_type": "execute_result"
    }
   ],
   "source": [
    "from utils import diag_inv\n",
    "from low_rank_methods import nystrom\n",
    "rank = 20\n",
    "i = np.eye(rank)\n",
    "Nys = nystrom(K, rank)\n",
    "U = Nys[0]\n",
    "D = Nys[1]\n",
    "\n",
    "residuals_pre = []\n",
    "b = y_train\n",
    "B = diag_inv(D+mu)\n",
    "lambda_l = D[-1, -1]\n",
    "\n",
    "P_nys = U@(D+mu)@U.T/(lambda_l+mu)+I-U@U.T\n",
    "P_nys_inv = (lambda_l+mu)*U@B@U.T+I-U@U.T\n",
    "\n",
    "\n",
    "def callback(x): return residuals_pre.append(\n",
    "    np.linalg.norm(K_reg @ x - b) )\n",
    "# / np.linalg.norm(b)\n",
    "\n",
    "\n",
    "alpha_pre, info = cg(K_reg, b, M=P_nys, callback=callback, tol=1e-3)\n",
    "len(residuals_pre)"
   ]
  },
  {
   "cell_type": "code",
   "execution_count": 27,
   "metadata": {},
   "outputs": [],
   "source": [
    "import numpy as np\n",
    "import scipy.linalg as la\n",
    "\n",
    "\n",
    "def CG(A, b, P=None, matvec=None, tol=1e-5, x0=None, max_iter=None):\n",
    "    \"\"\"\n",
    "    Conjugate Gradient Method for solving Ax = b\n",
    "    :param A: matrix\n",
    "    :param b: vector\n",
    "    :param tol: tolerance (default: 1e-5)\n",
    "    :param x0: initial guess (default: Zero vector)\n",
    "    :param max_iter: Maximum number of iterations (default: Dimension of A)\n",
    "    :param P: The Preconditioner (default: None for CG)\n",
    "    :param matvec: Function to perform matrix-vector multiplication (default: None)\n",
    "    :return: x, residuals\n",
    "    \"\"\"\n",
    "\n",
    "    N = len(b)\n",
    "    residuals = []\n",
    "    dot = np.dot\n",
    "\n",
    "    if max_iter is None:\n",
    "        max_iter = N\n",
    "\n",
    "    if matvec is None:\n",
    "        def matvec(M, u):\n",
    "            return M @ u\n",
    "\n",
    "    x = np.zeros(N) if x0 is None else x0\n",
    "    r = b - matvec(A, x)\n",
    "    p = r.copy()\n",
    "\n",
    "    if P is not None:\n",
    "        z = np.linalg.solve(P , r)\n",
    "        p = z.copy()\n",
    "    else:\n",
    "        z = r\n",
    "\n",
    "    i = 0\n",
    "    while i < max_iter and la.norm(r) > tol:\n",
    "        residuals.append(np.linalg.norm(r))\n",
    "\n",
    "        if la.norm(r) < tol:\n",
    "            break\n",
    "\n",
    "        v = matvec(A, p)\n",
    "\n",
    "        if P is None:\n",
    "            alpha = dot(r, r) / dot(p, v)\n",
    "        else:\n",
    "            alpha = dot(r, z) / dot(p, v)\n",
    "\n",
    "        x = x + alpha * p\n",
    "        r_new = r - alpha * v\n",
    "\n",
    "        if P is None:\n",
    "            beta = dot(r_new, r_new) / dot(r, r)\n",
    "        else:\n",
    "            z_new = np.linalg.solve(P , r_new)\n",
    "            beta = dot(z_new, r_new) / dot(z, r)\n",
    "            z = z_new\n",
    "\n",
    "        p = z + beta * p if P is not None else r_new + beta * p\n",
    "        r = r_new\n",
    "        i += 1\n",
    "\n",
    "    return x, np.array(residuals)"
   ]
  },
  {
   "cell_type": "code",
   "execution_count": 33,
   "metadata": {},
   "outputs": [],
   "source": [
    "results = CG(A=K_reg, b=y_train, P=None, matvec=None, tol=1e-5, x0=None, max_iter=None)"
   ]
  },
  {
   "cell_type": "code",
   "execution_count": 34,
   "metadata": {},
   "outputs": [
    {
     "data": {
      "text/plain": [
       "<matplotlib.legend.Legend at 0x316de0700>"
      ]
     },
     "execution_count": 34,
     "metadata": {},
     "output_type": "execute_result"
    },
    {
     "data": {
      "image/png": "[encoded data removed]",
      "text/plain": [
       "<Figure size 640x480 with 1 Axes>"
      ]
     },
     "metadata": {},
     "output_type": "display_data"
    }
   ],
   "source": [
    "# \"\"\"Show plot with convergence profile - normalised residual vector vs iteration.\"\"\"\n",
    "import matplotlib.pyplot as plt\n",
    "plt.title('Pre KRR method convergence profile.')\n",
    "plt.ylabel('Convergence (residual norm)')\n",
    "plt.xlabel('Iterations')\n",
    "\n",
    "m_res = results[1]\n",
    "plt.semilogy(range(len(m_res)), m_res, 'b--')\n",
    "\n",
    "plt.legend(['Total iter = ' + str(len(m_res))])\n",
    "# plt.show()"
   ]
  },
  {
   "cell_type": "code",
   "execution_count": 29,
   "metadata": {},
   "outputs": [
    {
     "data": {
      "text/plain": [
       "(10000, 10000)"
      ]
     },
     "execution_count": 29,
     "metadata": {},
     "output_type": "execute_result"
    }
   ],
   "source": [
    "from utils import diag_inv\n",
    "from low_rank_methods import nystrom\n",
    "rank = 20\n",
    "i = np.eye(rank)\n",
    "Nys = nystrom(K, rank)\n",
    "U = Nys[0]\n",
    "D = Nys[1]\n",
    "\n",
    "residuals_pre = []\n",
    "b = y_train\n",
    "B = diag_inv(D+mu)\n",
    "lambda_l = D[-1, -1]\n",
    "\n",
    "P_nys = U@(D+mu)@U.T/(lambda_l+mu)+I-U@U.T\n",
    "P_nys_inv = (lambda_l+mu)*U@B@U.T+I-U@U.T\n",
    "\n",
    "P_nys_inv.shape"
   ]
  },
  {
   "cell_type": "code",
   "execution_count": 30,
   "metadata": {},
   "outputs": [],
   "source": [
    "results_pre = CG(A=K_reg, b=y_train, P=P_nys, matvec=None, tol=1e-5, x0=None, max_iter=None)"
   ]
  },
  {
   "cell_type": "code",
   "execution_count": 23,
   "metadata": {},
   "outputs": [
    {
     "data": {
      "text/plain": [
       "((10000,), (10000,))"
      ]
     },
     "execution_count": 23,
     "metadata": {},
     "output_type": "execute_result"
    }
   ],
   "source": [
    "results_pre[0].shape, alpha_pre.shape"
   ]
  },
  {
   "cell_type": "code",
   "execution_count": 21,
   "metadata": {},
   "outputs": [
    {
     "data": {
      "text/plain": [
       "True"
      ]
     },
     "execution_count": 21,
     "metadata": {},
     "output_type": "execute_result"
    }
   ],
   "source": [
    "np.round(results_pre[0]-alpha_pre).all()==0"
   ]
  },
  {
   "cell_type": "code",
   "execution_count": 32,
   "metadata": {},
   "outputs": [
    {
     "data": {
      "text/plain": [
       "<matplotlib.legend.Legend at 0x1775a0730>"
      ]
     },
     "execution_count": 32,
     "metadata": {},
     "output_type": "execute_result"
    },
    {
     "data": {
      "image/png": "[encoded data removed]",
      "text/plain": [
       "<Figure size 640x480 with 1 Axes>"
      ]
     },
     "metadata": {},
     "output_type": "display_data"
    }
   ],
   "source": [
    "# \"\"\"Show plot with convergence profile - normalised residual vector vs iteration.\"\"\"\n",
    "import matplotlib.pyplot as plt\n",
    "plt.title('Pre KRR method convergence profile.')\n",
    "plt.ylabel('Convergence (residual norm)')\n",
    "plt.xlabel('Iterations')\n",
    "\n",
    "m_res = results_pre[1]\n",
    "plt.semilogy(range(len(m_res)), m_res, 'b--')\n",
    "\n",
    "plt.legend(['Total iter = ' + str(len(m_res))])\n",
    "# plt.show()"
   ]
  },
  {
   "cell_type": "code",
   "execution_count": 31,
   "metadata": {},
   "outputs": [
    {
     "data": {
      "text/plain": [
       "array([1.00000000e+02, 1.49657737e+01, 1.89539843e+00, 1.45431553e+00,\n",
       "       7.04083869e-03, 1.56009882e-03, 5.04307948e-05])"
      ]
     },
     "execution_count": 31,
     "metadata": {},
     "output_type": "execute_result"
    }
   ],
   "source": [
    "results_pre[1]"
   ]
  },
  {
   "cell_type": "code",
   "execution_count": null,
   "metadata": {},
   "outputs": [],
   "source": [
    "import numpy as np\n",
    "\n",
    "\n",
    "class RandomFourierFeatures:\n",
    "    def __init__(self, d, N, sigma):\n",
    "        self.d = d\n",
    "        self.N = N\n",
    "        self.sigma = sigma\n",
    "        self.W = np.random.normal(scale=1/sigma, size=(rank, d))\n",
    "        self.b = np.random.uniform(0, 2*np.pi, size=rank)\n",
    "\n",
    "    def transform(self, X):\n",
    "        projection = X @ self.W + self.b\n",
    "        return np.sqrt(2/self.N) * np.cos(projection)\n",
    "\n",
    "# W = np.random.normal(loc=0, scale=1, size=(self.rff_dim, D))\n",
    "# b = np.random.uniform(0, 2*np.pi, size=self.rff_dim)\n",
    "\n",
    "# Example usage\n",
    "X = np.random.randn(100, 5)  # 100 samples, 5-dimensional input\n",
    "rff = RandomFourierFeatures(N=100, d=5, sigma=1.0)\n",
    "Z = rff.transform(X)"
   ]
  },
  {
   "cell_type": "code",
   "execution_count": null,
   "metadata": {},
   "outputs": [],
   "source": [
    "def rff(X, srff_dim, sigma):\n",
    "    \"\"\"Return random Fourier features based on data X, as well as random\n",
    "    variables W and b.\n",
    "    \"\"\"\n",
    "    N, D = X.shape\n",
    "\n",
    "    W = np.random.normal(loc=0, scale=1, size=(srff_dim, D))\n",
    "    b = np.random.uniform(0, 2*np.pi, size=srff_dim)\n",
    "\n",
    "    B    = np.repeat(b[:, np.newaxis], N, axis=1)\n",
    "    norm = 1./ np.sqrt(srff_dim)\n",
    "    Z    = norm * np.sqrt(2) * np.cos(sigma * W @ X.T + B)\n",
    "    return Z.T, W, b"
   ]
  },
  {
   "cell_type": "code",
   "execution_count": null,
   "metadata": {},
   "outputs": [],
   "source": [
    "X = np.random.randn(100, 50)\n",
    "Z, W, b = rff(X, srff_dim=10, sigma=1.)\n",
    "Z.shape, W.shape"
   ]
  },
  {
   "cell_type": "code",
   "execution_count": null,
   "metadata": {},
   "outputs": [],
   "source": [
    "from sklearn.base import BaseEstimator\n",
    "from sklearn.exceptions import NotFittedError\n",
    "from scipy.stats import cauchy, laplace\n",
    "import numpy as np\n",
    "\n",
    "\n",
    "class RFF(BaseEstimator):\n",
    "    def __init__(self, gamma=1, D=50, metric=\"rbf\"):\n",
    "        self.gamma = gamma\n",
    "        self.metric = metric\n",
    "        # Dimensionality D (number of MonteCarlo samples)\n",
    "        self.D = D\n",
    "        self.fitted = False\n",
    "\n",
    "    def fit(self, X, y=None):\n",
    "        \"\"\" Generates MonteCarlo random samples \"\"\"\n",
    "        d = X.shape[1]\n",
    "        # Generate D iid samples from p(w)\n",
    "        if self.metric == \"rbf\":\n",
    "            self.w = np.sqrt(2*self.gamma)*np.random.normal(size=(self.D, d))\n",
    "        elif self.metric == \"laplace\":\n",
    "            self.w = cauchy.rvs(scale=self.gamma, size=(self.D, d))\n",
    "\n",
    "        # Generate D iid samples from Uniform(0,2*pi)\n",
    "        self.u = 2*np.pi*np.random.rand(self.D)\n",
    "        self.fitted = True\n",
    "        return self\n",
    "\n",
    "    def transform(self, X):\n",
    "        \"\"\" Transforms the data X (n_samples, n_features) to the new map space Z(X) (n_samples, n_components)\"\"\"\n",
    "        if not self.fitted:\n",
    "            raise NotFittedError(\n",
    "                \"RBF_MonteCarlo must be fitted beform computing the feature map Z\")\n",
    "        # Compute feature map Z(x):\n",
    "        Z = np.sqrt(2/self.D)*np.cos((X.dot(self.w.T) + self.u[np.newaxis, :]))\n",
    "        return Z\n",
    "\n",
    "    def compute_kernel(self, X):\n",
    "        \"\"\" Computes the approximated kernel matrix K \"\"\"\n",
    "        if not self.fitted:\n",
    "            raise NotFittedError(\n",
    "                \"RBF_MonteCarlo must be fitted beform computing the kernel matrix\")\n",
    "        Z = self.transform(X)\n",
    "        K = Z.dot(Z.T)\n",
    "        return K"
   ]
  },
  {
   "cell_type": "code",
   "execution_count": null,
   "metadata": {},
   "outputs": [],
   "source": [
    "def rff3(X, D, sigma):\n",
    "    \"\"\"Return random Fourier features based on data X, as well as random\n",
    "    variables W and b.\n",
    "    \"\"\"\n",
    "    N, d = X.shape\n",
    "    W = np.sqrt(2*sigma)*np.random.normal(size=(D, d))\n",
    "    b = 2*np.pi*np.random.rand(D)\n",
    "    Z = np.sqrt(2/D)*np.cos((X.dot(W.T) + b[np.newaxis, :]))\n",
    "    return Z, W, b"
   ]
  },
  {
   "cell_type": "code",
   "execution_count": null,
   "metadata": {},
   "outputs": [],
   "source": [
    "X = np.random.randn(100, 50)\n",
    "Z, W, b = rff3(X, D=10, sigma=1.)\n",
    "Z.shape, W.shape, b.shape"
   ]
  },
  {
   "cell_type": "code",
   "execution_count": 3,
   "metadata": {},
   "outputs": [
    {
     "data": {
      "text/plain": [
       "array([-0.5, -0.8])"
      ]
     },
     "execution_count": 3,
     "metadata": {},
     "output_type": "execute_result"
    }
   ],
   "source": [
    "import numpy as np\n",
    "\n",
    "# Assuming S is a 2D square matrix and mu is a scalar\n",
    "mu = 1  # Example value for mu\n",
    "S = np.array([[1, 0], [0, 2]])  # Example 2D square matrix\n",
    "\n",
    "d = 1 / (np.diag(S)**2 + mu) - 1/mu\n",
    "d"
   ]
  }
 ],
 "metadata": {
  "kernelspec": {
   "display_name": "Python 3",
   "language": "python",
   "name": "python3"
  },
  "language_info": {
   "codemirror_mode": {
    "name": "ipython",
    "version": 3
   },
   "file_extension": ".py",
   "mimetype": "text/x-python",
   "name": "python",
   "nbconvert_exporter": "python",
   "pygments_lexer": "ipython3",
   "version": "3.9.6"
  }
 },
 "nbformat": 4,
 "nbformat_minor": 2
}
