{
 "cells": [
  {
   "cell_type": "code",
   "execution_count": null,
   "metadata": {},
   "outputs": [],
   "source": [
    "import numpy as np\n",
    "from pkrr import PKRR\n",
    "from math import *\n",
    "import matplotlib.pyplot as plt"
   ]
  },
  {
   "cell_type": "code",
   "execution_count": null,
   "metadata": {},
   "outputs": [],
   "source": [
    "from data_datasets import higgs, susy, cod_rna\n",
    "# data = \"susy\"\n",
    "data = \"higgs\"\n",
    "# data = \"cod_rna\"\n",
    "####################\n",
    "N = 10000\n",
    "\n",
    "if data == \"higgs\":\n",
    "    X_train, X_test, y_train, y_test = higgs(N)\n",
    "elif data == \"susy\":\n",
    "    X_train, X_test, y_train, y_test = susy(N)\n",
    "elif data == \"cod_rna\":\n",
    "    X_train, X_test, y_train, y_test = cod_rna(N)\n",
    "\n",
    "print(\"\\nDataset:\", data)\n",
    "print(\"--------\\nShape train data:\", X_train.shape)\n",
    "print(\"Shape test data:\", X_test.shape)"
   ]
  },
  {
   "cell_type": "markdown",
   "metadata": {},
   "source": [
    "# Fix rank and gamma and vary mu"
   ]
  },
  {
   "cell_type": "code",
   "execution_count": null,
   "metadata": {},
   "outputs": [],
   "source": [
    "gamma = 0.005\n",
    "rank =50\n",
    "\n",
    "n = 5  # number of colors\n",
    "colors = ['red', 'green', 'blue', 'yellow', 'orange', \"black\"]\n",
    "mu_list = [1.e-4, 1.e-03, 1.e-2, 1.e-1, 1]\n",
    "mu_list"
   ]
  },
  {
   "cell_type": "code",
   "execution_count": null,
   "metadata": {},
   "outputs": [],
   "source": [
    "fig, ax = plt.subplots()\n",
    "ax.set_xlabel('Iterations')\n",
    "ax.set_ylabel('Convergence (residual norm)')\n",
    "ax.set_title(f'Without preconditioner.')\n",
    "\n",
    "models_residuals = []\n",
    "\n",
    "for i, mu in enumerate(mu_list):\n",
    "    model = PKRR(mu=mu, rank=rank, gamma=gamma)\n",
    "    model.fit(X_train=X_train, y_train=y_train)\n",
    "    m_res = model.residuals\n",
    "    ax.semilogy(range(len(m_res)), m_res,\n",
    "                color=colors[i], label=r'$\\mu=$'+f\"{mu:.1e}, itr={len(m_res)}\")\n",
    "\n",
    "ax.legend()\n",
    "plt.show()"
   ]
  },
  {
   "cell_type": "code",
   "execution_count": null,
   "metadata": {},
   "outputs": [],
   "source": [
    "method = \"uniform\"\n",
    "fig, ax = plt.subplots()\n",
    "ax.set_xlabel('Iterations')\n",
    "ax.set_ylabel('Convergence (residual norm)')\n",
    "ax.set_title(f'Pre KRR with {method} method.')\n",
    "\n",
    "models_residuals = []\n",
    "\n",
    "for i, mu in enumerate(mu_list):\n",
    "    model = PKRR(mu=mu, rank=rank, prec=method, gamma=gamma)\n",
    "    model.fit(X_train=X_train, y_train=y_train)\n",
    "    m_res = model.residuals\n",
    "    ax.semilogy(range(len(m_res)), m_res,\n",
    "                color=colors[i], label=r'$\\mu=$'+f\"{mu:.1e}, itr={len(m_res)}\")\n",
    "\n",
    "ax.legend()\n",
    "plt.show()"
   ]
  },
  {
   "cell_type": "code",
   "execution_count": null,
   "metadata": {},
   "outputs": [],
   "source": [
    "method = \"greedy\"\n",
    "fig, ax = plt.subplots()\n",
    "ax.set_xlabel('Iterations')\n",
    "ax.set_ylabel('Convergence (residual norm)')\n",
    "ax.set_title(f'Pre KRR with {method} method.')\n",
    "\n",
    "models_residuals = []\n",
    "\n",
    "for i, mu in enumerate(mu_list):\n",
    "    model = PKRR(mu=mu, rank=rank, prec=method, gamma=gamma)\n",
    "    model.fit(X_train=X_train, y_train=y_train)\n",
    "    m_res = model.residuals\n",
    "    ax.semilogy(range(len(m_res)), m_res,\n",
    "                color=colors[i], label=r'$\\mu=$'+f\"{mu:.1e}, itr={len(m_res)}\")\n",
    "\n",
    "ax.legend()\n",
    "plt.show()"
   ]
  },
  {
   "cell_type": "code",
   "execution_count": null,
   "metadata": {},
   "outputs": [],
   "source": [
    "method = \"nystrom\"\n",
    "fig, ax = plt.subplots()\n",
    "ax.set_xlabel('Iterations')\n",
    "ax.set_ylabel('Convergence (residual norm)')\n",
    "ax.set_title(f'Pre KRR with {method} method.')\n",
    "\n",
    "models_residuals = []\n",
    "\n",
    "for i, mu in enumerate(mu_list):\n",
    "    model = PKRR(mu=mu, rank=rank, prec=method, gamma=gamma)\n",
    "    model.fit(X_train=X_train, y_train=y_train)\n",
    "    m_res = model.residuals\n",
    "    ax.semilogy(range(len(m_res)), m_res,\n",
    "                color=colors[i], label=r'$\\mu=$'+f\"{mu:.1e}, itr={len(m_res)}\")\n",
    "\n",
    "ax.legend()\n",
    "plt.show()"
   ]
  },
  {
   "cell_type": "code",
   "execution_count": null,
   "metadata": {},
   "outputs": [],
   "source": [
    "method = \"rff\"\n",
    "fig, ax = plt.subplots()\n",
    "ax.set_xlabel('Iterations')\n",
    "ax.set_ylabel('Convergence (residual norm)')\n",
    "ax.set_title(f'Pre KRR with {method} method.')\n",
    "\n",
    "models_residuals = []\n",
    "\n",
    "for i, mu in enumerate(mu_list):\n",
    "    model = PKRR(mu=mu, rank=rank, prec=method, gamma=gamma)\n",
    "    model.fit(X_train=X_train, y_train=y_train)\n",
    "    m_res = model.residuals\n",
    "    ax.semilogy(range(len(m_res)), m_res,\n",
    "                color=colors[i], label=r'$\\mu=$'+f\"{mu:.1e}, itr={len(m_res)}\")\n",
    "\n",
    "ax.legend()\n",
    "plt.show()"
   ]
  },
  {
   "cell_type": "code",
   "execution_count": null,
   "metadata": {},
   "outputs": [],
   "source": [
    "method = \"rpc\"\n",
    "fig, ax = plt.subplots()\n",
    "ax.set_xlabel('Iterations')\n",
    "ax.set_ylabel('Convergence (residual norm)')\n",
    "ax.set_title(f'Pre KRR with {method} method.')\n",
    "\n",
    "models_residuals = []\n",
    "\n",
    "for i, mu in enumerate(mu_list):\n",
    "    model = PKRR(mu=mu, rank=rank, prec=method, gamma=gamma)\n",
    "    model.fit(X_train=X_train, y_train=y_train)\n",
    "    m_res = model.residuals\n",
    "    ax.semilogy(range(len(m_res)), m_res,\n",
    "                color=colors[i], label=r'$\\mu=$'+f\"{mu:.1e}, itr={len(m_res)}\")\n",
    "\n",
    "ax.legend()\n",
    "plt.show()"
   ]
  }
 ],
 "metadata": {
  "kernelspec": {
   "display_name": "Python 3",
   "language": "python",
   "name": "python3"
  },
  "language_info": {
   "codemirror_mode": {
    "name": "ipython",
    "version": 3
   },
   "file_extension": ".py",
   "mimetype": "text/x-python",
   "name": "python",
   "nbconvert_exporter": "python",
   "pygments_lexer": "ipython3",
   "version": "3.9.6"
  }
 },
 "nbformat": 4,
 "nbformat_minor": 2
}
